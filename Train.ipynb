{
 "cells": [
  {
   "cell_type": "code",
   "execution_count": 1,
   "metadata": {},
   "outputs": [],
   "source": [
    "import os\n",
    "import sys\n",
    "import pandas as pd\n",
    "import numpy as np\n",
    "import random\n",
    "\n",
    "import tensorflow as tf\n",
    "import matplotlib.pyplot as plt\n",
    "\n",
    "from matplotlib import pyplot\n",
    "\n",
    "from sklearn.preprocessing import MinMaxScaler\n",
    "\n",
    "from keras.utils import Sequence\n",
    "\n",
    "from tensorflow.keras import backend\n",
    "from tensorflow.keras.layers import Concatenate\n",
    "from tensorflow.keras.layers import Dense\n",
    "from tensorflow.keras.layers import Dropout\n",
    "from tensorflow.keras.layers import Flatten\n",
    "from tensorflow.keras.layers import Input\n",
    "from tensorflow.keras.layers import LSTM\n",
    "from tensorflow.keras.layers import Reshape\n",
    "from tensorflow.keras.models import load_model\n",
    "from tensorflow.keras.models import Model\n",
    "from tensorflow.keras.optimizers import Adam\n",
    "\n",
    "sys.path.append('path_to_your_file/template')\n",
    "from template.callback_manager import CallbackManager\n",
    "\n",
    "from sklearn.metrics import confusion_matrix\n",
    "from sklearn.metrics import precision_score, recall_score"
   ]
  },
  {
   "cell_type": "code",
   "execution_count": 2,
   "metadata": {},
   "outputs": [],
   "source": [
    "class DataGenerator(Sequence):\n",
    "    def __init__(self, data, positive_patients, negative_patients, batch_size, steps_per_epoch, step=1):\n",
    "        \n",
    "        self.batch_size = batch_size\n",
    "        self.steps_per_epoch = steps_per_epoch\n",
    "        \n",
    "        self.data = data\n",
    "        \n",
    "        self.positive_patients = positive_patients\n",
    "        self.negative_patients = negative_patients\n",
    "        \n",
    "        self.sub_positive_patients = self.positive_patients[:self.steps_per_epoch]\n",
    "        self.sub_negative_patients = self.negative_patients[:self.steps_per_epoch]\n",
    "        self.sub_patients = np.concatenate((self.sub_positive_patients , self.sub_negative_patients), axis=0)\n",
    "        \n",
    "        self.batches_num = len(self.sub_patients )\n",
    "        self.rs = np.random.RandomState(1000)\n",
    "        self.is_positive = False\n",
    "        \n",
    "    def __getitem__(self, current_id):\n",
    "        if self.is_positive:\n",
    "            current_id = random.choice(self.sub_positive_patients)\n",
    "            df = self.data[self.data['patient_id'] == current_id]\n",
    "            self.is_positive = False\n",
    "        else:\n",
    "            \n",
    "            current_id = random.choice(self.sub_negative_patients)\n",
    "            df = self.data[self.data['patient_id'] == current_id]\n",
    "            self.is_positive = True\n",
    "        \n",
    "        \n",
    "        sequence_lengths = int(df[\"sequence_lengths\"].iloc[0])\n",
    "        df = df.iloc[:sequence_lengths+1]\n",
    "        \n",
    "        df = df.drop('sequence_lengths', axis=1)\n",
    "        df = df.drop('patient_id', axis=1)\n",
    "        \n",
    "        label = int(df[\"recovery_flags\"].iloc[-1])\n",
    "        df = df.drop('recovery_flags', axis=1)\n",
    "        \n",
    "        sequence = df.values\n",
    "        return sequence, label\n",
    "\n",
    "        \n",
    "    def __len__(self):\n",
    "        return self.batches_num\n",
    "    \n",
    "    \n",
    "    def on_epoch_end(self):\n",
    "        if 1:\n",
    "            self.rs.shuffle(self.positive_patients)\n",
    "            self.rs.shuffle(self.negative_patients)\n",
    "            \n",
    "            self.sub_positive_patients = self.positive_patients[:self.steps_per_epoch]\n",
    "            self.sub_negative_patients = self.negative_patients[:self.steps_per_epoch]\n",
    "            self.sub_patients = np.concatenate((self.sub_positive_patients , self.sub_negative_patients), axis=0)"
   ]
  },
  {
   "cell_type": "code",
   "execution_count": 3,
   "metadata": {},
   "outputs": [
    {
     "name": "stdout",
     "output_type": "stream",
     "text": [
      "ROOT_DIR:  /Users/kirilerosenco/Desktop/Архив1\n"
     ]
    }
   ],
   "source": [
    "# Determining numpy and tensorflow\n",
    "np.random.seed(1000)\n",
    "tf.compat.v1.set_random_seed(1000)\n",
    "tf.random.set_seed(1000)\n",
    "from tqdm import tqdm\n",
    "import matplotlib.pyplot as plt\n",
    "\n",
    "ROOT_DIR = os.getcwd()\n",
    "print(\"ROOT_DIR: \", ROOT_DIR)\n",
    "if ROOT_DIR not in sys.path:\n",
    "    sys.path.append(ROOT_DIR)\n",
    "    \n",
    "INPUT_LAYER = 'input_layer'\n",
    "INPUT_SHAPE = 6\n",
    "    \n",
    "\n",
    "def validate_model(lstm_model,\n",
    "                   data_generator,\n",
    "                   loss_function):\n",
    "\n",
    "    batches_num = data_generator.batches_num\n",
    "    val_loss = 0\n",
    "    accuracy = 0\n",
    "    for batch in tqdm(data_generator, desc=\"Model is validating...\"):\n",
    "        sequence, true_detection = batch\n",
    "\n",
    "        lstm_model.reset_states()\n",
    "        prediction = predict(lstm_model, sequence)\n",
    "        \n",
    "        pred = 1 if prediction[0] >= 0.5 else 0\n",
    "        \n",
    "        if pred == true_detection:\n",
    "            accuracy += 1\n",
    "       \n",
    "        true_detection = np.array([[true_detection]])\n",
    "        val_loss += backend.get_value(loss_function(true_detection, prediction))\n",
    "\n",
    "    return val_loss / batches_num, accuracy / batches_num\n",
    "\n",
    "\n",
    "def train_model(lstm_model, data_generator):\n",
    "\n",
    "    batches_num = data_generator.batches_num\n",
    "    train_loss = 0\n",
    "    for sequence in tqdm(data_generator, desc=\"Model is training...\"):\n",
    "        train_loss += train_on_sequence(lstm_model, sequence)\n",
    "\n",
    "    return train_loss / batches_num\n",
    "\n",
    "\n",
    "def predict(lstm_model, sequence):\n",
    "    \n",
    "    prediction = None\n",
    "    for element in list(sequence):\n",
    "        element = element[np.newaxis, ...]\n",
    "        prediction = lstm_model.predict_on_batch(x=element)\n",
    "    return prediction\n",
    "\n",
    "\n",
    "def train_on_sequence(lstm_model,\n",
    "                      sample):\n",
    "\n",
    "    lstm_model.reset_states()\n",
    "\n",
    "    frames, true_detection = sample\n",
    "    \n",
    "    true_detection = np.array([[true_detection]])\n",
    "    \n",
    "    \n",
    "    for frame in list(frames[:-1]):\n",
    "        frame = frame[np.newaxis, ...]\n",
    "        lstm_model.predict_on_batch(x=frame)\n",
    "\n",
    "    train_input = frames[-1]\n",
    "    \n",
    "    train_input = train_input[np.newaxis, ...]\n",
    "\n",
    "    return lstm_model.train_on_batch(x=train_input, y=true_detection)\n",
    "\n",
    "\n",
    "def plot_losses(losses,\n",
    "                val_losses,\n",
    "                epochs,\n",
    "                logs_dir):\n",
    " \n",
    "    n = np.arange(1, epochs)\n",
    "    plt.style.use('ggplot')\n",
    "    plt.figure()\n",
    "    plt.plot(n, losses, label='train_loss')\n",
    "    plt.plot(n, val_losses, label='val_loss')\n",
    "    plt.title('Training and validation losses')\n",
    "    plt.xlabel('Epochs')\n",
    "    plt.ylabel('Losses')\n",
    "    plt.legend()\n",
    "    plt.savefig(os.path.join(logs_dir, '{}_{}.png'.format('Losses', epochs)))\n",
    "    plt.close()\n",
    "               \n",
    "\n",
    "callback_parameters = {\n",
    "                \"logs_dir\": \"logs\",\n",
    "                \"lr_reduce_patience\": 15,\n",
    "                \"lr_reduce_factor\": 0.5,\n",
    "                \"lr_reduce_min_lr\":  0.0000001,\n",
    "                \"lr_reduce_min_delta\":  0.001\n",
    "            }\n",
    "\n",
    "\n",
    "class LstmModelManager:\n",
    "    def __init__(self,\n",
    "                 train_mode: bool = False):\n",
    "               \n",
    "        self._loss_name = \"binary_crossentropy\"\n",
    "        self._loss = tf.keras.losses.BinaryCrossentropy()\n",
    "\n",
    "        abs_path_to_model = os.path.join(ROOT_DIR, \"lstm_model\", \"model.hdf5\")\n",
    "        self._path_to_model = abs_path_to_model\n",
    "\n",
    "        abs_path_to_model_folder, model_name = os.path.split(abs_path_to_model)\n",
    "        os.makedirs(abs_path_to_model_folder, exist_ok=True)\n",
    "        \n",
    "        self._path_to_best_model = os.path.join(ROOT_DIR, \"best_lstm_model\", \"model.hdf5\")\n",
    "        os.makedirs(os.path.join(ROOT_DIR, \"best_lstm_model\"), exist_ok=True)\n",
    "\n",
    "        if train_mode:\n",
    "               \n",
    "            self._optimizer = Adam(lr=0.0001,\n",
    "                                   epsilon=0.000001)\n",
    "\n",
    "            self._callback_manager = CallbackManager(callback_parameters)\n",
    "            self._patience = callback_parameters[\"lr_reduce_patience\"]\n",
    "            logs_dir = callback_parameters[\"logs_dir\"]\n",
    "            self._path_to_logs = os.path.join(abs_path_to_model_folder, logs_dir)\n",
    "            os.makedirs(self._path_to_logs, exist_ok=True)\n",
    "            self._lstm_model = self._build_multi_model(INPUT_SHAPE)\n",
    "\n",
    "    @property\n",
    "    def loss(self):\n",
    "        return self._loss\n",
    "\n",
    "    def _build_multi_model(self,\n",
    "                           input_shape):\n",
    "        input_row = Input(batch_shape=(1, input_shape), name=INPUT_LAYER)\n",
    "\n",
    "\n",
    "        output_layer = Reshape(target_shape=(1, input_shape))(input_row)\n",
    "\n",
    "        output_layer = LSTM(16,\n",
    "                              return_sequences=True,\n",
    "                              dropout=0.2,\n",
    "                              batch_input_shape=(1, 1, input_shape),\n",
    "                              stateful=True)(output_layer)\n",
    "\n",
    "        output_layer = Flatten()(output_layer)\n",
    "        output_layer = Dense(8, activation='relu')(output_layer)\n",
    "        output_layer = Dropout(0.1)(output_layer)\n",
    "\n",
    "        output_layer = Dense(1, activation=\"sigmoid\")(output_layer)\n",
    "\n",
    "        model = Model(inputs=input_row, outputs=output_layer)\n",
    "        return self._compile_model(model)\n",
    "\n",
    "    def _update_training_parameters(self, val_loss):\n",
    "        current_lr = self._lstm_model.optimizer.learning_rate\n",
    "        new_lr = self._callback_manager.get_reduced_lr(val_loss, current_lr.numpy())\n",
    "        backend.set_value(current_lr, new_lr)\n",
    "\n",
    "    def _compile_model(self, model):\n",
    "        model.compile(loss=self._loss, optimizer=self._optimizer)\n",
    "        return model\n",
    "\n",
    "    def _save_model(self, path_to_model=None):\n",
    "        if path_to_model is None:\n",
    "            self._lstm_model.save(self._path_to_model)\n",
    "        else:\n",
    "            self._lstm_model.save(path_to_model)\n",
    "\n",
    "    def load_model(self, path_to_model=None):\n",
    "        if path_to_model is None:\n",
    "            lstm_model = load_model(self._path_to_model,\n",
    "                                    custom_objects={self._loss_name: self._loss})\n",
    "        else:\n",
    "            lstm_model = load_model(path_to_model, custom_objects={self._loss_name: self._loss})\n",
    "        self._lstm_model = lstm_model\n",
    "        return lstm_model\n",
    "               \n",
    "               \n",
    "    def fit_model(self,\n",
    "                  train_data_generator: DataGenerator,\n",
    "                  valid_data_generator: DataGenerator,\n",
    "                  epoch_num: int):\n",
    "        valid_losses = []\n",
    "        training_losses = []\n",
    "\n",
    "        for epoch_index in range(1, epoch_num + 1):\n",
    "            train_loss = train_model(self._lstm_model, train_data_generator)\n",
    "\n",
    "            self._save_model()\n",
    "            backend.clear_session()\n",
    "            _ = self.load_model()\n",
    "\n",
    "            val_loss, val_accuracy = validate_model(self._lstm_model, valid_data_generator, self._loss)\n",
    "\n",
    "            if epoch_index > 1 and val_loss < min(valid_losses):\n",
    "                self._save_model(self._path_to_best_model)\n",
    "\n",
    "            if epoch_index % self._patience == 0:\n",
    "                self._update_training_parameters(valid_losses)\n",
    "                plot_losses(training_losses, valid_losses, epoch_index, self._path_to_logs)\n",
    "\n",
    "            training_losses.append(train_loss)\n",
    "            valid_losses.append(val_loss)\n",
    "            \n",
    "            \n",
    "            train_data_generator.on_epoch_end()\n",
    "            valid_data_generator.on_epoch_end()\n",
    "\n",
    "\n",
    "            print('train loss: {} on epoch num: {}'.format(train_loss, epoch_index))\n",
    "            print('val_loss: {} on epoch num: {}'.format(val_loss, epoch_index))\n",
    "            print('val_accuracy: {} on epoch num: {}'.format(val_accuracy, epoch_index))\n",
    "        \n",
    "\n",
    "\n",
    "    def evaluate_model(self, data_generator):\n",
    "        backend.clear_session()\n",
    "        self._lstm_model = self.load_model(self._path_to_best_model)\n",
    "        loss_value = validate_model(self._lstm_model, data_generator, self._loss)\n",
    "        self._lstm_model.reset_states()\n",
    "        return loss_value\n",
    "\n"
   ]
  },
  {
   "cell_type": "code",
   "execution_count": 4,
   "metadata": {},
   "outputs": [],
   "source": [
    "def separate_to_positive_and_negative(data_f, patients):\n",
    "    positive_patients = []\n",
    "    negative_patients = []\n",
    "    \n",
    "    for patient in patients:\n",
    "        filtered_df = data_f[data_f['patient_id'] == patient]\n",
    "        unique_values = list(filtered_df['recovery_flags'].unique())\n",
    "        flag = max(unique_values)\n",
    "        if flag == 1.:\n",
    "            positive_patients.append(patient)\n",
    "        elif flag == 0.:\n",
    "            negative_patients.append(patient)\n",
    "        else:\n",
    "            raise ValueError(\"LOL, error\")\n",
    "    return positive_patients, negative_patients"
   ]
  },
  {
   "cell_type": "code",
   "execution_count": 5,
   "metadata": {},
   "outputs": [],
   "source": [
    "num_timesteps = 60\n",
    "epoch_num = 30 # for model training\n",
    "steps_per_epoch = 30  # for model training\n",
    "\n",
    "data_1 = pd.read_csv('data_g.csv')\n",
    "data_2 = pd.read_csv('data_g2.csv')\n",
    "data_3 = pd.read_csv('data_g3.csv')\n",
    "data_4 = pd.read_csv('data_g4.csv') \n",
    "\n",
    "\n",
    "train = pd.concat([data_2, data_3], ignore_index=True).reset_index(drop=True)\n",
    "train = train.drop('index', axis = 1)\n",
    "train_num_patients = len(train) // num_timesteps\n",
    "train_patient_id = np.repeat(np.arange(train_num_patients), num_timesteps)\n",
    "train['patient_id'] = train_patient_id\n",
    "\n",
    "\n",
    "valid = data_4.drop('index', axis = 1)\n",
    "valid_num_patients = len(valid) // num_timesteps\n",
    "valid_patient_id = np.repeat(np.arange(valid_num_patients), num_timesteps)\n",
    "valid['patient_id'] = valid_patient_id\n",
    "\n",
    "\n",
    "test = data_1.drop('index', axis = 1)\n",
    "test_num_patients = len(test) // num_timesteps\n",
    "test_patient_id = np.repeat(np.arange(test_num_patients), num_timesteps)\n",
    "test['patient_id'] = test_patient_id\n",
    "\n"
   ]
  },
  {
   "cell_type": "code",
   "execution_count": 6,
   "metadata": {},
   "outputs": [
    {
     "name": "stdout",
     "output_type": "stream",
     "text": [
      "train:  581 19419\n",
      "valid:  304 9696\n"
     ]
    }
   ],
   "source": [
    "positive_train_patients, negative_train_patients = separate_to_positive_and_negative(train, set(train_patient_id))\n",
    "positive_valid_patients, negative_valid_patients = separate_to_positive_and_negative(valid, set(valid_patient_id))\n",
    "\n",
    "print(\"train: \", len(positive_train_patients), len(negative_train_patients))\n",
    "print(\"valid: \", len(positive_valid_patients), len(negative_valid_patients))\n"
   ]
  },
  {
   "cell_type": "code",
   "execution_count": 7,
   "metadata": {},
   "outputs": [
    {
     "name": "stderr",
     "output_type": "stream",
     "text": [
      "WARNING:absl:`lr` is deprecated, please use `learning_rate` instead, or use the legacy optimizer, e.g.,tf.keras.optimizers.legacy.Adam.\n",
      "Model is training...:   0%|          | 0/60 [00:00<?, ?it/s]2023-05-12 19:51:46.932058: W tensorflow/tsl/platform/profile_utils/cpu_utils.cc:128] Failed to get CPU frequency: 0 Hz\n",
      "Model is training...: 100%|██████████| 60/60 [00:04<00:00, 12.16it/s]\n",
      "Model is validating...: 100%|██████████| 60/60 [00:04<00:00, 14.99it/s]\n"
     ]
    },
    {
     "name": "stdout",
     "output_type": "stream",
     "text": [
      "train loss: 0.6998658259709676 on epoch num: 1\n",
      "val_loss: 0.69317453900973 on epoch num: 1\n",
      "val_accuracy: 0.5166666666666667 on epoch num: 1\n"
     ]
    },
    {
     "name": "stderr",
     "output_type": "stream",
     "text": [
      "Model is training...: 100%|██████████| 60/60 [00:04<00:00, 13.14it/s]\n",
      "Model is validating...: 100%|██████████| 60/60 [00:04<00:00, 13.70it/s]\n"
     ]
    },
    {
     "name": "stdout",
     "output_type": "stream",
     "text": [
      "train loss: 0.647560141980648 on epoch num: 2\n",
      "val_loss: 0.6192991365989049 on epoch num: 2\n",
      "val_accuracy: 0.7833333333333333 on epoch num: 2\n"
     ]
    },
    {
     "name": "stderr",
     "output_type": "stream",
     "text": [
      "Model is training...: 100%|██████████| 60/60 [00:04<00:00, 12.64it/s]\n",
      "Model is validating...: 100%|██████████| 60/60 [00:04<00:00, 13.06it/s]\n"
     ]
    },
    {
     "name": "stdout",
     "output_type": "stream",
     "text": [
      "train loss: 0.5869372377792994 on epoch num: 3\n",
      "val_loss: 0.5182434077064196 on epoch num: 3\n",
      "val_accuracy: 0.8 on epoch num: 3\n"
     ]
    },
    {
     "name": "stderr",
     "output_type": "stream",
     "text": [
      "Model is training...: 100%|██████████| 60/60 [00:04<00:00, 12.74it/s]\n",
      "Model is validating...: 100%|██████████| 60/60 [00:04<00:00, 13.78it/s]\n"
     ]
    },
    {
     "name": "stdout",
     "output_type": "stream",
     "text": [
      "train loss: 0.5492147490382194 on epoch num: 4\n",
      "val_loss: 0.5002027069528897 on epoch num: 4\n",
      "val_accuracy: 0.8333333333333334 on epoch num: 4\n"
     ]
    },
    {
     "name": "stderr",
     "output_type": "stream",
     "text": [
      "Model is training...: 100%|██████████| 60/60 [00:04<00:00, 13.02it/s]\n",
      "Model is validating...: 100%|██████████| 60/60 [00:04<00:00, 14.46it/s]\n"
     ]
    },
    {
     "name": "stdout",
     "output_type": "stream",
     "text": [
      "train loss: 0.4976067235072454 on epoch num: 5\n",
      "val_loss: 0.46775376896063486 on epoch num: 5\n",
      "val_accuracy: 0.8166666666666667 on epoch num: 5\n"
     ]
    },
    {
     "name": "stderr",
     "output_type": "stream",
     "text": [
      "Model is training...: 100%|██████████| 60/60 [00:05<00:00, 11.20it/s]\n",
      "Model is validating...: 100%|██████████| 60/60 [00:05<00:00, 10.82it/s]\n"
     ]
    },
    {
     "name": "stdout",
     "output_type": "stream",
     "text": [
      "train loss: 0.4475233186036348 on epoch num: 6\n",
      "val_loss: 0.4766917342940966 on epoch num: 6\n",
      "val_accuracy: 0.85 on epoch num: 6\n"
     ]
    },
    {
     "name": "stderr",
     "output_type": "stream",
     "text": [
      "Model is training...: 100%|██████████| 60/60 [00:04<00:00, 13.69it/s]\n",
      "Model is validating...: 100%|██████████| 60/60 [00:03<00:00, 15.44it/s]\n"
     ]
    },
    {
     "name": "stdout",
     "output_type": "stream",
     "text": [
      "train loss: 0.39555800246695677 on epoch num: 7\n",
      "val_loss: 0.3100666863222917 on epoch num: 7\n",
      "val_accuracy: 0.9166666666666666 on epoch num: 7\n"
     ]
    },
    {
     "name": "stderr",
     "output_type": "stream",
     "text": [
      "Model is training...: 100%|██████████| 60/60 [00:04<00:00, 13.56it/s]\n",
      "Model is validating...: 100%|██████████| 60/60 [00:04<00:00, 12.87it/s]\n"
     ]
    },
    {
     "name": "stdout",
     "output_type": "stream",
     "text": [
      "train loss: 0.30074551527698834 on epoch num: 8\n",
      "val_loss: 0.3693607417245706 on epoch num: 8\n",
      "val_accuracy: 0.8833333333333333 on epoch num: 8\n"
     ]
    },
    {
     "name": "stderr",
     "output_type": "stream",
     "text": [
      "Model is training...: 100%|██████████| 60/60 [00:04<00:00, 13.26it/s]\n",
      "Model is validating...: 100%|██████████| 60/60 [00:04<00:00, 13.44it/s]\n"
     ]
    },
    {
     "name": "stdout",
     "output_type": "stream",
     "text": [
      "train loss: 0.3773196411629518 on epoch num: 9\n",
      "val_loss: 0.3732495882858833 on epoch num: 9\n",
      "val_accuracy: 0.85 on epoch num: 9\n"
     ]
    },
    {
     "name": "stderr",
     "output_type": "stream",
     "text": [
      "Model is training...: 100%|██████████| 60/60 [00:04<00:00, 13.63it/s]\n",
      "Model is validating...: 100%|██████████| 60/60 [00:04<00:00, 14.31it/s]\n"
     ]
    },
    {
     "name": "stdout",
     "output_type": "stream",
     "text": [
      "train loss: 0.3962815109019478 on epoch num: 10\n",
      "val_loss: 0.44528850466012954 on epoch num: 10\n",
      "val_accuracy: 0.8333333333333334 on epoch num: 10\n"
     ]
    },
    {
     "name": "stderr",
     "output_type": "stream",
     "text": [
      "Model is training...: 100%|██████████| 60/60 [00:04<00:00, 13.83it/s]\n",
      "Model is validating...: 100%|██████████| 60/60 [00:04<00:00, 14.88it/s]\n"
     ]
    },
    {
     "name": "stdout",
     "output_type": "stream",
     "text": [
      "train loss: 0.2947747005770604 on epoch num: 11\n",
      "val_loss: 0.306591892739137 on epoch num: 11\n",
      "val_accuracy: 0.9333333333333333 on epoch num: 11\n"
     ]
    },
    {
     "name": "stderr",
     "output_type": "stream",
     "text": [
      "Model is training...: 100%|██████████| 60/60 [00:04<00:00, 12.76it/s]\n",
      "Model is validating...: 100%|██████████| 60/60 [00:04<00:00, 12.12it/s]\n"
     ]
    },
    {
     "name": "stdout",
     "output_type": "stream",
     "text": [
      "train loss: 0.48725967618326343 on epoch num: 12\n",
      "val_loss: 0.44252094328403474 on epoch num: 12\n",
      "val_accuracy: 0.8166666666666667 on epoch num: 12\n"
     ]
    },
    {
     "name": "stderr",
     "output_type": "stream",
     "text": [
      "Model is training...: 100%|██████████| 60/60 [00:04<00:00, 12.28it/s]\n",
      "Model is validating...: 100%|██████████| 60/60 [00:04<00:00, 13.47it/s]\n"
     ]
    },
    {
     "name": "stdout",
     "output_type": "stream",
     "text": [
      "train loss: 0.3754041823248068 on epoch num: 13\n",
      "val_loss: 0.294935452627639 on epoch num: 13\n",
      "val_accuracy: 0.9333333333333333 on epoch num: 13\n"
     ]
    },
    {
     "name": "stderr",
     "output_type": "stream",
     "text": [
      "Model is training...: 100%|██████████| 60/60 [00:04<00:00, 12.76it/s]\n",
      "Model is validating...: 100%|██████████| 60/60 [00:04<00:00, 13.94it/s]\n"
     ]
    },
    {
     "name": "stdout",
     "output_type": "stream",
     "text": [
      "train loss: 0.4351608611022433 on epoch num: 14\n",
      "val_loss: 0.25699561468015114 on epoch num: 14\n",
      "val_accuracy: 1.0 on epoch num: 14\n"
     ]
    },
    {
     "name": "stderr",
     "output_type": "stream",
     "text": [
      "Model is training...: 100%|██████████| 60/60 [00:04<00:00, 13.36it/s]\n",
      "Model is validating...: 100%|██████████| 60/60 [00:04<00:00, 14.04it/s]\n"
     ]
    },
    {
     "name": "stdout",
     "output_type": "stream",
     "text": [
      "Learning rate reduced from 0.0010000000474974513 to 0.0005000000237487257\n",
      "train loss: 0.3428613381460309 on epoch num: 15\n",
      "val_loss: 0.4388614525397619 on epoch num: 15\n",
      "val_accuracy: 0.8833333333333333 on epoch num: 15\n"
     ]
    },
    {
     "name": "stderr",
     "output_type": "stream",
     "text": [
      "Model is training...: 100%|██████████| 60/60 [00:04<00:00, 13.10it/s]\n",
      "Model is validating...: 100%|██████████| 60/60 [00:04<00:00, 13.62it/s]\n"
     ]
    },
    {
     "name": "stdout",
     "output_type": "stream",
     "text": [
      "train loss: 0.354865059008201 on epoch num: 16\n",
      "val_loss: 0.34004551768302915 on epoch num: 16\n",
      "val_accuracy: 0.9333333333333333 on epoch num: 16\n"
     ]
    },
    {
     "name": "stderr",
     "output_type": "stream",
     "text": [
      "Model is training...: 100%|██████████| 60/60 [00:04<00:00, 12.12it/s]\n",
      "Model is validating...: 100%|██████████| 60/60 [00:04<00:00, 14.82it/s]\n"
     ]
    },
    {
     "name": "stdout",
     "output_type": "stream",
     "text": [
      "train loss: 0.3390682766834895 on epoch num: 17\n",
      "val_loss: 0.2636979348336657 on epoch num: 17\n",
      "val_accuracy: 0.9333333333333333 on epoch num: 17\n"
     ]
    },
    {
     "name": "stderr",
     "output_type": "stream",
     "text": [
      "Model is training...: 100%|██████████| 60/60 [00:04<00:00, 13.37it/s]\n",
      "Model is validating...: 100%|██████████| 60/60 [00:04<00:00, 14.60it/s]\n"
     ]
    },
    {
     "name": "stdout",
     "output_type": "stream",
     "text": [
      "train loss: 0.34649030019839605 on epoch num: 18\n",
      "val_loss: 0.29626698084175584 on epoch num: 18\n",
      "val_accuracy: 0.9666666666666667 on epoch num: 18\n"
     ]
    },
    {
     "name": "stderr",
     "output_type": "stream",
     "text": [
      "Model is training...: 100%|██████████| 60/60 [00:04<00:00, 12.02it/s]\n",
      "Model is validating...: 100%|██████████| 60/60 [00:04<00:00, 14.52it/s]\n"
     ]
    },
    {
     "name": "stdout",
     "output_type": "stream",
     "text": [
      "train loss: 0.4382321900377671 on epoch num: 19\n",
      "val_loss: 0.35892289063582816 on epoch num: 19\n",
      "val_accuracy: 0.9166666666666666 on epoch num: 19\n"
     ]
    },
    {
     "name": "stderr",
     "output_type": "stream",
     "text": [
      "Model is training...: 100%|██████████| 60/60 [00:04<00:00, 12.49it/s]\n",
      "Model is validating...: 100%|██████████| 60/60 [00:04<00:00, 12.76it/s]\n"
     ]
    },
    {
     "name": "stdout",
     "output_type": "stream",
     "text": [
      "train loss: 0.26672209228078525 on epoch num: 20\n",
      "val_loss: 0.24481714156766732 on epoch num: 20\n",
      "val_accuracy: 0.9 on epoch num: 20\n"
     ]
    },
    {
     "name": "stderr",
     "output_type": "stream",
     "text": [
      "Model is training...: 100%|██████████| 60/60 [00:04<00:00, 13.06it/s]\n",
      "Model is validating...: 100%|██████████| 60/60 [00:04<00:00, 14.78it/s]\n"
     ]
    },
    {
     "name": "stdout",
     "output_type": "stream",
     "text": [
      "train loss: 0.29045492863903444 on epoch num: 21\n",
      "val_loss: 0.23529171316574019 on epoch num: 21\n",
      "val_accuracy: 0.9166666666666666 on epoch num: 21\n"
     ]
    },
    {
     "name": "stderr",
     "output_type": "stream",
     "text": [
      "Model is training...: 100%|██████████| 60/60 [00:04<00:00, 13.12it/s]\n",
      "Model is validating...: 100%|██████████| 60/60 [00:05<00:00, 11.57it/s]\n"
     ]
    },
    {
     "name": "stdout",
     "output_type": "stream",
     "text": [
      "train loss: 0.1813645629522701 on epoch num: 22\n",
      "val_loss: 0.3482174482817451 on epoch num: 22\n",
      "val_accuracy: 0.8666666666666667 on epoch num: 22\n"
     ]
    },
    {
     "name": "stderr",
     "output_type": "stream",
     "text": [
      "Model is training...: 100%|██████████| 60/60 [00:04<00:00, 12.51it/s]\n",
      "Model is validating...: 100%|██████████| 60/60 [00:04<00:00, 14.03it/s]\n"
     ]
    },
    {
     "name": "stdout",
     "output_type": "stream",
     "text": [
      "train loss: 0.33351062623163064 on epoch num: 23\n",
      "val_loss: 0.28162470723812777 on epoch num: 23\n",
      "val_accuracy: 0.8833333333333333 on epoch num: 23\n"
     ]
    },
    {
     "name": "stderr",
     "output_type": "stream",
     "text": [
      "Model is training...: 100%|██████████| 60/60 [00:04<00:00, 13.06it/s]\n",
      "Model is validating...: 100%|██████████| 60/60 [00:04<00:00, 14.06it/s]\n"
     ]
    },
    {
     "name": "stdout",
     "output_type": "stream",
     "text": [
      "train loss: 0.3181969237824281 on epoch num: 24\n",
      "val_loss: 0.21168929866204658 on epoch num: 24\n",
      "val_accuracy: 0.9333333333333333 on epoch num: 24\n"
     ]
    },
    {
     "name": "stderr",
     "output_type": "stream",
     "text": [
      "Model is training...: 100%|██████████| 60/60 [00:04<00:00, 13.61it/s]\n",
      "Model is validating...: 100%|██████████| 60/60 [00:04<00:00, 14.53it/s]\n"
     ]
    },
    {
     "name": "stdout",
     "output_type": "stream",
     "text": [
      "train loss: 0.20054176390791933 on epoch num: 25\n",
      "val_loss: 0.17362358508010706 on epoch num: 25\n",
      "val_accuracy: 1.0 on epoch num: 25\n"
     ]
    },
    {
     "name": "stderr",
     "output_type": "stream",
     "text": [
      "Model is training...: 100%|██████████| 60/60 [00:04<00:00, 12.11it/s]\n",
      "Model is validating...: 100%|██████████| 60/60 [00:04<00:00, 14.13it/s]\n"
     ]
    },
    {
     "name": "stdout",
     "output_type": "stream",
     "text": [
      "train loss: 0.40695813574517764 on epoch num: 26\n",
      "val_loss: 0.18189505754659574 on epoch num: 26\n",
      "val_accuracy: 1.0 on epoch num: 26\n"
     ]
    },
    {
     "name": "stderr",
     "output_type": "stream",
     "text": [
      "Model is training...: 100%|██████████| 60/60 [00:04<00:00, 13.14it/s]\n",
      "Model is validating...: 100%|██████████| 60/60 [00:03<00:00, 15.10it/s]\n"
     ]
    },
    {
     "name": "stdout",
     "output_type": "stream",
     "text": [
      "train loss: 0.30249926960095763 on epoch num: 27\n",
      "val_loss: 0.26582937271644674 on epoch num: 27\n",
      "val_accuracy: 0.9166666666666666 on epoch num: 27\n"
     ]
    },
    {
     "name": "stderr",
     "output_type": "stream",
     "text": [
      "Model is training...: 100%|██████████| 60/60 [00:04<00:00, 13.55it/s]\n",
      "Model is validating...: 100%|██████████| 60/60 [00:03<00:00, 15.24it/s]\n"
     ]
    },
    {
     "name": "stdout",
     "output_type": "stream",
     "text": [
      "train loss: 0.2546627173045029 on epoch num: 28\n",
      "val_loss: 0.14264955874532462 on epoch num: 28\n",
      "val_accuracy: 0.9833333333333333 on epoch num: 28\n"
     ]
    },
    {
     "name": "stderr",
     "output_type": "stream",
     "text": [
      "Model is training...: 100%|██████████| 60/60 [00:04<00:00, 13.96it/s]\n",
      "Model is validating...: 100%|██████████| 60/60 [00:04<00:00, 13.97it/s]\n"
     ]
    },
    {
     "name": "stdout",
     "output_type": "stream",
     "text": [
      "train loss: 0.25869778338819743 on epoch num: 29\n",
      "val_loss: 0.20854452991237243 on epoch num: 29\n",
      "val_accuracy: 0.9833333333333333 on epoch num: 29\n"
     ]
    },
    {
     "name": "stderr",
     "output_type": "stream",
     "text": [
      "Model is training...: 100%|██████████| 60/60 [00:04<00:00, 14.00it/s]\n",
      "Model is validating...: 100%|██████████| 60/60 [00:04<00:00, 14.04it/s]\n"
     ]
    },
    {
     "name": "stdout",
     "output_type": "stream",
     "text": [
      "Learning rate reduced from 0.0005000000237487257 to 0.0002500000118743628\n",
      "train loss: 0.15590116328870257 on epoch num: 30\n",
      "val_loss: 0.41375161446630954 on epoch num: 30\n",
      "val_accuracy: 0.85 on epoch num: 30\n"
     ]
    },
    {
     "ename": "ValueError",
     "evalue": "x and y must have same first dimension, but have shapes (29,) and (30,)",
     "output_type": "error",
     "traceback": [
      "\u001b[0;31m---------------------------------------------------------------------------\u001b[0m",
      "\u001b[0;31mValueError\u001b[0m                                Traceback (most recent call last)",
      "Cell \u001b[0;32mIn[7], line 16\u001b[0m\n\u001b[1;32m      7\u001b[0m valid_data_generator \u001b[39m=\u001b[39m DataGenerator(data\u001b[39m=\u001b[39mvalid,\n\u001b[1;32m      8\u001b[0m                                      positive_patients\u001b[39m=\u001b[39mpositive_valid_patients, \n\u001b[1;32m      9\u001b[0m                                      negative_patients\u001b[39m=\u001b[39mnegative_valid_patients, \n\u001b[1;32m     10\u001b[0m                                      batch_size\u001b[39m=\u001b[39m\u001b[39m1\u001b[39m, steps_per_epoch\u001b[39m=\u001b[39msteps_per_epoch,\n\u001b[1;32m     11\u001b[0m                                      step\u001b[39m=\u001b[39m\u001b[39m1\u001b[39m)\n\u001b[1;32m     14\u001b[0m model_manager \u001b[39m=\u001b[39m LstmModelManager(train_mode\u001b[39m=\u001b[39m\u001b[39mTrue\u001b[39;00m)\n\u001b[0;32m---> 16\u001b[0m model_manager\u001b[39m.\u001b[39;49mfit_model(train_data_generator\u001b[39m=\u001b[39;49mtrain_data_generator,\n\u001b[1;32m     17\u001b[0m                         valid_data_generator\u001b[39m=\u001b[39;49mvalid_data_generator,\n\u001b[1;32m     18\u001b[0m                         epoch_num\u001b[39m=\u001b[39;49mepoch_num)\n",
      "Cell \u001b[0;32mIn[3], line 222\u001b[0m, in \u001b[0;36mLstmModelManager.fit_model\u001b[0;34m(self, train_data_generator, valid_data_generator, epoch_num)\u001b[0m\n\u001b[1;32m    219\u001b[0m     \u001b[39mprint\u001b[39m(\u001b[39m'\u001b[39m\u001b[39mval_loss: \u001b[39m\u001b[39m{}\u001b[39;00m\u001b[39m on epoch num: \u001b[39m\u001b[39m{}\u001b[39;00m\u001b[39m'\u001b[39m\u001b[39m.\u001b[39mformat(val_loss, epoch_index))\n\u001b[1;32m    220\u001b[0m     \u001b[39mprint\u001b[39m(\u001b[39m'\u001b[39m\u001b[39mval_accuracy: \u001b[39m\u001b[39m{}\u001b[39;00m\u001b[39m on epoch num: \u001b[39m\u001b[39m{}\u001b[39;00m\u001b[39m'\u001b[39m\u001b[39m.\u001b[39mformat(val_accuracy, epoch_index))\n\u001b[0;32m--> 222\u001b[0m plot_losses(training_losses,\n\u001b[1;32m    223\u001b[0m         valid_losses,\n\u001b[1;32m    224\u001b[0m         epoch_num,\n\u001b[1;32m    225\u001b[0m         ROOT_DIR)\n",
      "Cell \u001b[0;32mIn[3], line 89\u001b[0m, in \u001b[0;36mplot_losses\u001b[0;34m(losses, val_losses, epochs, logs_dir)\u001b[0m\n\u001b[1;32m     87\u001b[0m plt\u001b[39m.\u001b[39mstyle\u001b[39m.\u001b[39muse(\u001b[39m'\u001b[39m\u001b[39mggplot\u001b[39m\u001b[39m'\u001b[39m)\n\u001b[1;32m     88\u001b[0m plt\u001b[39m.\u001b[39mfigure()\n\u001b[0;32m---> 89\u001b[0m plt\u001b[39m.\u001b[39;49mplot(n, losses, label\u001b[39m=\u001b[39;49m\u001b[39m'\u001b[39;49m\u001b[39mtrain_loss\u001b[39;49m\u001b[39m'\u001b[39;49m)\n\u001b[1;32m     90\u001b[0m plt\u001b[39m.\u001b[39mplot(n, val_losses, label\u001b[39m=\u001b[39m\u001b[39m'\u001b[39m\u001b[39mval_loss\u001b[39m\u001b[39m'\u001b[39m)\n\u001b[1;32m     91\u001b[0m plt\u001b[39m.\u001b[39mtitle(\u001b[39m'\u001b[39m\u001b[39mTraining and validation losses\u001b[39m\u001b[39m'\u001b[39m)\n",
      "File \u001b[0;32m~/miniconda3/envs/torch/lib/python3.9/site-packages/matplotlib/pyplot.py:2812\u001b[0m, in \u001b[0;36mplot\u001b[0;34m(scalex, scaley, data, *args, **kwargs)\u001b[0m\n\u001b[1;32m   2810\u001b[0m \u001b[39m@_copy_docstring_and_deprecators\u001b[39m(Axes\u001b[39m.\u001b[39mplot)\n\u001b[1;32m   2811\u001b[0m \u001b[39mdef\u001b[39;00m \u001b[39mplot\u001b[39m(\u001b[39m*\u001b[39margs, scalex\u001b[39m=\u001b[39m\u001b[39mTrue\u001b[39;00m, scaley\u001b[39m=\u001b[39m\u001b[39mTrue\u001b[39;00m, data\u001b[39m=\u001b[39m\u001b[39mNone\u001b[39;00m, \u001b[39m*\u001b[39m\u001b[39m*\u001b[39mkwargs):\n\u001b[0;32m-> 2812\u001b[0m     \u001b[39mreturn\u001b[39;00m gca()\u001b[39m.\u001b[39;49mplot(\n\u001b[1;32m   2813\u001b[0m         \u001b[39m*\u001b[39;49margs, scalex\u001b[39m=\u001b[39;49mscalex, scaley\u001b[39m=\u001b[39;49mscaley,\n\u001b[1;32m   2814\u001b[0m         \u001b[39m*\u001b[39;49m\u001b[39m*\u001b[39;49m({\u001b[39m\"\u001b[39;49m\u001b[39mdata\u001b[39;49m\u001b[39m\"\u001b[39;49m: data} \u001b[39mif\u001b[39;49;00m data \u001b[39mis\u001b[39;49;00m \u001b[39mnot\u001b[39;49;00m \u001b[39mNone\u001b[39;49;00m \u001b[39melse\u001b[39;49;00m {}), \u001b[39m*\u001b[39;49m\u001b[39m*\u001b[39;49mkwargs)\n",
      "File \u001b[0;32m~/miniconda3/envs/torch/lib/python3.9/site-packages/matplotlib/axes/_axes.py:1688\u001b[0m, in \u001b[0;36mAxes.plot\u001b[0;34m(self, scalex, scaley, data, *args, **kwargs)\u001b[0m\n\u001b[1;32m   1445\u001b[0m \u001b[39m\u001b[39m\u001b[39m\"\"\"\u001b[39;00m\n\u001b[1;32m   1446\u001b[0m \u001b[39mPlot y versus x as lines and/or markers.\u001b[39;00m\n\u001b[1;32m   1447\u001b[0m \n\u001b[0;32m   (...)\u001b[0m\n\u001b[1;32m   1685\u001b[0m \u001b[39m(``'green'``) or hex strings (``'#008000'``).\u001b[39;00m\n\u001b[1;32m   1686\u001b[0m \u001b[39m\"\"\"\u001b[39;00m\n\u001b[1;32m   1687\u001b[0m kwargs \u001b[39m=\u001b[39m cbook\u001b[39m.\u001b[39mnormalize_kwargs(kwargs, mlines\u001b[39m.\u001b[39mLine2D)\n\u001b[0;32m-> 1688\u001b[0m lines \u001b[39m=\u001b[39m [\u001b[39m*\u001b[39m\u001b[39mself\u001b[39m\u001b[39m.\u001b[39m_get_lines(\u001b[39m*\u001b[39margs, data\u001b[39m=\u001b[39mdata, \u001b[39m*\u001b[39m\u001b[39m*\u001b[39mkwargs)]\n\u001b[1;32m   1689\u001b[0m \u001b[39mfor\u001b[39;00m line \u001b[39min\u001b[39;00m lines:\n\u001b[1;32m   1690\u001b[0m     \u001b[39mself\u001b[39m\u001b[39m.\u001b[39madd_line(line)\n",
      "File \u001b[0;32m~/miniconda3/envs/torch/lib/python3.9/site-packages/matplotlib/axes/_base.py:311\u001b[0m, in \u001b[0;36m_process_plot_var_args.__call__\u001b[0;34m(self, data, *args, **kwargs)\u001b[0m\n\u001b[1;32m    309\u001b[0m     this \u001b[39m+\u001b[39m\u001b[39m=\u001b[39m args[\u001b[39m0\u001b[39m],\n\u001b[1;32m    310\u001b[0m     args \u001b[39m=\u001b[39m args[\u001b[39m1\u001b[39m:]\n\u001b[0;32m--> 311\u001b[0m \u001b[39myield from\u001b[39;00m \u001b[39mself\u001b[39;49m\u001b[39m.\u001b[39;49m_plot_args(\n\u001b[1;32m    312\u001b[0m     this, kwargs, ambiguous_fmt_datakey\u001b[39m=\u001b[39;49mambiguous_fmt_datakey)\n",
      "File \u001b[0;32m~/miniconda3/envs/torch/lib/python3.9/site-packages/matplotlib/axes/_base.py:504\u001b[0m, in \u001b[0;36m_process_plot_var_args._plot_args\u001b[0;34m(self, tup, kwargs, return_kwargs, ambiguous_fmt_datakey)\u001b[0m\n\u001b[1;32m    501\u001b[0m     \u001b[39mself\u001b[39m\u001b[39m.\u001b[39maxes\u001b[39m.\u001b[39myaxis\u001b[39m.\u001b[39mupdate_units(y)\n\u001b[1;32m    503\u001b[0m \u001b[39mif\u001b[39;00m x\u001b[39m.\u001b[39mshape[\u001b[39m0\u001b[39m] \u001b[39m!=\u001b[39m y\u001b[39m.\u001b[39mshape[\u001b[39m0\u001b[39m]:\n\u001b[0;32m--> 504\u001b[0m     \u001b[39mraise\u001b[39;00m \u001b[39mValueError\u001b[39;00m(\u001b[39mf\u001b[39m\u001b[39m\"\u001b[39m\u001b[39mx and y must have same first dimension, but \u001b[39m\u001b[39m\"\u001b[39m\n\u001b[1;32m    505\u001b[0m                      \u001b[39mf\u001b[39m\u001b[39m\"\u001b[39m\u001b[39mhave shapes \u001b[39m\u001b[39m{\u001b[39;00mx\u001b[39m.\u001b[39mshape\u001b[39m}\u001b[39;00m\u001b[39m and \u001b[39m\u001b[39m{\u001b[39;00my\u001b[39m.\u001b[39mshape\u001b[39m}\u001b[39;00m\u001b[39m\"\u001b[39m)\n\u001b[1;32m    506\u001b[0m \u001b[39mif\u001b[39;00m x\u001b[39m.\u001b[39mndim \u001b[39m>\u001b[39m \u001b[39m2\u001b[39m \u001b[39mor\u001b[39;00m y\u001b[39m.\u001b[39mndim \u001b[39m>\u001b[39m \u001b[39m2\u001b[39m:\n\u001b[1;32m    507\u001b[0m     \u001b[39mraise\u001b[39;00m \u001b[39mValueError\u001b[39;00m(\u001b[39mf\u001b[39m\u001b[39m\"\u001b[39m\u001b[39mx and y can be no greater than 2D, but have \u001b[39m\u001b[39m\"\u001b[39m\n\u001b[1;32m    508\u001b[0m                      \u001b[39mf\u001b[39m\u001b[39m\"\u001b[39m\u001b[39mshapes \u001b[39m\u001b[39m{\u001b[39;00mx\u001b[39m.\u001b[39mshape\u001b[39m}\u001b[39;00m\u001b[39m and \u001b[39m\u001b[39m{\u001b[39;00my\u001b[39m.\u001b[39mshape\u001b[39m}\u001b[39;00m\u001b[39m\"\u001b[39m)\n",
      "\u001b[0;31mValueError\u001b[0m: x and y must have same first dimension, but have shapes (29,) and (30,)"
     ]
    },
    {
     "data": {
      "image/png": "[encoded data removed]",
      "text/plain": [
       "<Figure size 640x480 with 1 Axes>"
      ]
     },
     "metadata": {},
     "output_type": "display_data"
    }
   ],
   "source": [
    "train_data_generator = DataGenerator(data=train,\n",
    "                                     positive_patients=positive_train_patients, \n",
    "                                     negative_patients=negative_train_patients, \n",
    "                                     batch_size=1, steps_per_epoch=steps_per_epoch, step=1)\n",
    "\n",
    "\n",
    "valid_data_generator = DataGenerator(data=valid,\n",
    "                                     positive_patients=positive_valid_patients, \n",
    "                                     negative_patients=negative_valid_patients, \n",
    "                                     batch_size=1, steps_per_epoch=steps_per_epoch,\n",
    "                                     step=1)\n",
    "\n",
    "\n",
    "model_manager = LstmModelManager(train_mode=True)\n",
    "\n",
    "model_manager.fit_model(train_data_generator=train_data_generator,\n",
    "                        valid_data_generator=valid_data_generator,\n",
    "                        epoch_num=epoch_num)\n"
   ]
  },
  {
   "cell_type": "code",
   "execution_count": 8,
   "metadata": {},
   "outputs": [
    {
     "name": "stdout",
     "output_type": "stream",
     "text": [
      "test:  315 9685\n"
     ]
    }
   ],
   "source": [
    "positive_test_patients, negative_test_patients = separate_to_positive_and_negative(test, set(test_patient_id))\n",
    "print(\"test: \", len(positive_test_patients), len(negative_test_patients))"
   ]
  },
  {
   "cell_type": "code",
   "execution_count": 9,
   "metadata": {},
   "outputs": [
    {
     "data": {
      "text/plain": [
       "315"
      ]
     },
     "execution_count": 9,
     "metadata": {},
     "output_type": "execute_result"
    }
   ],
   "source": [
    "len(positive_test_patients)"
   ]
  },
  {
   "cell_type": "code",
   "execution_count": 10,
   "metadata": {},
   "outputs": [
    {
     "data": {
      "text/plain": [
       "315"
      ]
     },
     "execution_count": 10,
     "metadata": {},
     "output_type": "execute_result"
    }
   ],
   "source": [
    "negative_test_patients = negative_test_patients[:315]\n",
    "len(negative_test_patients)"
   ]
  },
  {
   "cell_type": "code",
   "execution_count": 11,
   "metadata": {},
   "outputs": [],
   "source": [
    "reduced_test_patients = positive_test_patients + negative_test_patients"
   ]
  },
  {
   "cell_type": "code",
   "execution_count": 12,
   "metadata": {},
   "outputs": [
    {
     "name": "stderr",
     "output_type": "stream",
     "text": [
      "  4%|▎         | 23/630 [00:06<03:03,  3.31it/s]"
     ]
    },
    {
     "name": "stdout",
     "output_type": "stream",
     "text": [
      "WARNING:tensorflow:5 out of the last 33 calls to <function Model.make_predict_function.<locals>.predict_function at 0x28d20fc10> triggered tf.function retracing. Tracing is expensive and the excessive number of tracings could be due to (1) creating @tf.function repeatedly in a loop, (2) passing tensors with different shapes, (3) passing Python objects instead of tensors. For (1), please define your @tf.function outside of the loop. For (2), @tf.function has reduce_retracing=True option that can avoid unnecessary retracing. For (3), please refer to https://www.tensorflow.org/guide/function#controlling_retracing and https://www.tensorflow.org/api_docs/python/tf/function for  more details.\n"
     ]
    },
    {
     "name": "stderr",
     "output_type": "stream",
     "text": [
      "WARNING:tensorflow:5 out of the last 33 calls to <function Model.make_predict_function.<locals>.predict_function at 0x28d20fc10> triggered tf.function retracing. Tracing is expensive and the excessive number of tracings could be due to (1) creating @tf.function repeatedly in a loop, (2) passing tensors with different shapes, (3) passing Python objects instead of tensors. For (1), please define your @tf.function outside of the loop. For (2), @tf.function has reduce_retracing=True option that can avoid unnecessary retracing. For (3), please refer to https://www.tensorflow.org/guide/function#controlling_retracing and https://www.tensorflow.org/api_docs/python/tf/function for  more details.\n",
      "  5%|▍         | 29/630 [00:08<02:46,  3.60it/s]"
     ]
    },
    {
     "name": "stdout",
     "output_type": "stream",
     "text": [
      "WARNING:tensorflow:5 out of the last 53 calls to <function Model.make_predict_function.<locals>.predict_function at 0x2bc65dca0> triggered tf.function retracing. Tracing is expensive and the excessive number of tracings could be due to (1) creating @tf.function repeatedly in a loop, (2) passing tensors with different shapes, (3) passing Python objects instead of tensors. For (1), please define your @tf.function outside of the loop. For (2), @tf.function has reduce_retracing=True option that can avoid unnecessary retracing. For (3), please refer to https://www.tensorflow.org/guide/function#controlling_retracing and https://www.tensorflow.org/api_docs/python/tf/function for  more details.\n"
     ]
    },
    {
     "name": "stderr",
     "output_type": "stream",
     "text": [
      "WARNING:tensorflow:5 out of the last 53 calls to <function Model.make_predict_function.<locals>.predict_function at 0x2bc65dca0> triggered tf.function retracing. Tracing is expensive and the excessive number of tracings could be due to (1) creating @tf.function repeatedly in a loop, (2) passing tensors with different shapes, (3) passing Python objects instead of tensors. For (1), please define your @tf.function outside of the loop. For (2), @tf.function has reduce_retracing=True option that can avoid unnecessary retracing. For (3), please refer to https://www.tensorflow.org/guide/function#controlling_retracing and https://www.tensorflow.org/api_docs/python/tf/function for  more details.\n",
      "100%|██████████| 630/630 [03:31<00:00,  2.98it/s]\n"
     ]
    }
   ],
   "source": [
    "true_labels = []\n",
    "predicted_labels = []\n",
    "\n",
    "for patient in tqdm(reduced_test_patients):\n",
    "    backend.clear_session()\n",
    "    best_model = load_model(os.path.join(ROOT_DIR, \"best_lstm_model\", \"model.hdf5\"))\n",
    "    \n",
    "    test_sub = test[test['patient_id'] == patient]\n",
    "    sequence_lengths = int(test_sub[\"sequence_lengths\"].iloc[0])\n",
    "    test_sub = test_sub.iloc[:sequence_lengths+1]\n",
    "\n",
    "    test_sub = test_sub.drop('sequence_lengths', axis=1)\n",
    "    test_sub = test_sub.drop('patient_id', axis=1)\n",
    "\n",
    "    true_detection = int(test_sub[\"recovery_flags\"].iloc[-1])\n",
    "    test_sub = test_sub.drop('recovery_flags', axis=1)\n",
    "\n",
    "    sequence = test_sub.values\n",
    "    \n",
    "        \n",
    "    true_labels.append(true_detection)\n",
    "    prediction = predict(best_model, sequence)\n",
    "    \n",
    "    if prediction[0] >= 0.5:\n",
    "        predicted_labels.append(1)\n",
    "    else:\n",
    "        predicted_labels.append(0)\n",
    "\n",
    "    best_model.reset_states()\n"
   ]
  },
  {
   "cell_type": "code",
   "execution_count": 13,
   "metadata": {},
   "outputs": [
    {
     "name": "stdout",
     "output_type": "stream",
     "text": [
      "Precision: [0.91150442 0.97938144]\n",
      "Recall: [0.98095238 0.9047619 ]\n"
     ]
    }
   ],
   "source": [
    "\n",
    "# calculate precision and recall for each class\n",
    "precision = precision_score(true_labels, predicted_labels, average=None)\n",
    "recall = recall_score(true_labels, predicted_labels, average=None)\n",
    "\n",
    "# print the results\n",
    "print('Precision:', precision)\n",
    "print('Recall:', recall)\n"
   ]
  },
  {
   "cell_type": "code",
   "execution_count": 14,
   "metadata": {},
   "outputs": [
    {
     "data": {
      "text/plain": [
       "array([[309,   6],\n",
       "       [ 30, 285]])"
      ]
     },
     "execution_count": 14,
     "metadata": {},
     "output_type": "execute_result"
    }
   ],
   "source": [
    "confusion_matrix(true_labels, predicted_labels)"
   ]
  }
 ],
 "metadata": {
  "accelerator": "GPU",
  "colab": {
   "provenance": []
  },
  "gpuClass": "standard",
  "kernelspec": {
   "display_name": "torch",
   "language": "python",
   "name": "python3"
  },
  "language_info": {
   "codemirror_mode": {
    "name": "ipython",
    "version": 3
   },
   "file_extension": ".py",
   "mimetype": "text/x-python",
   "name": "python",
   "nbconvert_exporter": "python",
   "pygments_lexer": "ipython3",
   "version": "3.9.16"
  },
  "vscode": {
   "interpreter": {
    "hash": "62b5c4326be1ea3537dbc2c69778d808eab6f217b057ee717a6f39e3eba324cd"
   }
  },
  "widgets": {
   "application/vnd.jupyter.widget-state+json": {
    "034b841d20854a0ebee75ec30ba0a1d1": {
     "model_module": "@jupyter-widgets/base",
     "model_module_version": "1.2.0",
     "model_name": "LayoutModel",
     "state": {
      "_model_module": "@jupyter-widgets/base",
      "_model_module_version": "1.2.0",
      "_model_name": "LayoutModel",
      "_view_count": null,
      "_view_module": "@jupyter-widgets/base",
      "_view_module_version": "1.2.0",
      "_view_name": "LayoutView",
      "align_content": null,
      "align_items": null,
      "align_self": null,
      "border": null,
      "bottom": null,
      "display": null,
      "flex": null,
      "flex_flow": null,
      "grid_area": null,
      "grid_auto_columns": null,
      "grid_auto_flow": null,
      "grid_auto_rows": null,
      "grid_column": null,
      "grid_gap": null,
      "grid_row": null,
      "grid_template_areas": null,
      "grid_template_columns": null,
      "grid_template_rows": null,
      "height": null,
      "justify_content": null,
      "justify_items": null,
      "left": null,
      "margin": null,
      "max_height": null,
      "max_width": null,
      "min_height": null,
      "min_width": null,
      "object_fit": null,
      "object_position": null,
      "order": null,
      "overflow": null,
      "overflow_x": null,
      "overflow_y": null,
      "padding": null,
      "right": null,
      "top": null,
      "visibility": null,
      "width": null
     }
    },
    "1149384e996149a2bc774b2c6ab3ca09": {
     "model_module": "@jupyter-widgets/controls",
     "model_module_version": "1.5.0",
     "model_name": "HTMLModel",
     "state": {
      "_dom_classes": [],
      "_model_module": "@jupyter-widgets/controls",
      "_model_module_version": "1.5.0",
      "_model_name": "HTMLModel",
      "_view_count": null,
      "_view_module": "@jupyter-widgets/controls",
      "_view_module_version": "1.5.0",
      "_view_name": "HTMLView",
      "description": "",
      "description_tooltip": null,
      "layout": "IPY_MODEL_5001855345504e88b3582f6c8903052a",
      "placeholder": "​",
      "style": "IPY_MODEL_6d8c3988f0df458dbb61ed3978a24ab2",
      "value": " 1/1 [00:05&lt;00:00,  5.57s/it]"
     }
    },
    "12e5e017e730445e90a77e0eb0dde0f3": {
     "model_module": "@jupyter-widgets/controls",
     "model_module_version": "1.5.0",
     "model_name": "FloatProgressModel",
     "state": {
      "_dom_classes": [],
      "_model_module": "@jupyter-widgets/controls",
      "_model_module_version": "1.5.0",
      "_model_name": "FloatProgressModel",
      "_view_count": null,
      "_view_module": "@jupyter-widgets/controls",
      "_view_module_version": "1.5.0",
      "_view_name": "ProgressView",
      "bar_style": "success",
      "description": "",
      "description_tooltip": null,
      "layout": "IPY_MODEL_4297c50248a744efa3ed1c5592a75e86",
      "max": 1,
      "min": 0,
      "orientation": "horizontal",
      "style": "IPY_MODEL_e40a6179bf594f11b03a3d4266db2bf7",
      "value": 1
     }
    },
    "17858ee892e94932a43aa9a871fa7a4b": {
     "model_module": "@jupyter-widgets/controls",
     "model_module_version": "1.5.0",
     "model_name": "HTMLModel",
     "state": {
      "_dom_classes": [],
      "_model_module": "@jupyter-widgets/controls",
      "_model_module_version": "1.5.0",
      "_model_name": "HTMLModel",
      "_view_count": null,
      "_view_module": "@jupyter-widgets/controls",
      "_view_module_version": "1.5.0",
      "_view_name": "HTMLView",
      "description": "",
      "description_tooltip": null,
      "layout": "IPY_MODEL_a50928756243496894b568b323b4deda",
      "placeholder": "​",
      "style": "IPY_MODEL_ee3e4ce9308c4c59bf65d3bba3e3574a",
      "value": "Export report to file: 100%"
     }
    },
    "1ea652088f3a431d9400dc33e51443fc": {
     "model_module": "@jupyter-widgets/base",
     "model_module_version": "1.2.0",
     "model_name": "LayoutModel",
     "state": {
      "_model_module": "@jupyter-widgets/base",
      "_model_module_version": "1.2.0",
      "_model_name": "LayoutModel",
      "_view_count": null,
      "_view_module": "@jupyter-widgets/base",
      "_view_module_version": "1.2.0",
      "_view_name": "LayoutView",
      "align_content": null,
      "align_items": null,
      "align_self": null,
      "border": null,
      "bottom": null,
      "display": null,
      "flex": null,
      "flex_flow": null,
      "grid_area": null,
      "grid_auto_columns": null,
      "grid_auto_flow": null,
      "grid_auto_rows": null,
      "grid_column": null,
      "grid_gap": null,
      "grid_row": null,
      "grid_template_areas": null,
      "grid_template_columns": null,
      "grid_template_rows": null,
      "height": null,
      "justify_content": null,
      "justify_items": null,
      "left": null,
      "margin": null,
      "max_height": null,
      "max_width": null,
      "min_height": null,
      "min_width": null,
      "object_fit": null,
      "object_position": null,
      "order": null,
      "overflow": null,
      "overflow_x": null,
      "overflow_y": null,
      "padding": null,
      "right": null,
      "top": null,
      "visibility": null,
      "width": null
     }
    },
    "21beb053d4604d3bb2de4959788f7741": {
     "model_module": "@jupyter-widgets/controls",
     "model_module_version": "1.5.0",
     "model_name": "DescriptionStyleModel",
     "state": {
      "_model_module": "@jupyter-widgets/controls",
      "_model_module_version": "1.5.0",
      "_model_name": "DescriptionStyleModel",
      "_view_count": null,
      "_view_module": "@jupyter-widgets/base",
      "_view_module_version": "1.2.0",
      "_view_name": "StyleView",
      "description_width": ""
     }
    },
    "246c8208e4084a369b9a825748d5334e": {
     "model_module": "@jupyter-widgets/base",
     "model_module_version": "1.2.0",
     "model_name": "LayoutModel",
     "state": {
      "_model_module": "@jupyter-widgets/base",
      "_model_module_version": "1.2.0",
      "_model_name": "LayoutModel",
      "_view_count": null,
      "_view_module": "@jupyter-widgets/base",
      "_view_module_version": "1.2.0",
      "_view_name": "LayoutView",
      "align_content": null,
      "align_items": null,
      "align_self": null,
      "border": null,
      "bottom": null,
      "display": null,
      "flex": null,
      "flex_flow": null,
      "grid_area": null,
      "grid_auto_columns": null,
      "grid_auto_flow": null,
      "grid_auto_rows": null,
      "grid_column": null,
      "grid_gap": null,
      "grid_row": null,
      "grid_template_areas": null,
      "grid_template_columns": null,
      "grid_template_rows": null,
      "height": null,
      "justify_content": null,
      "justify_items": null,
      "left": null,
      "margin": null,
      "max_height": null,
      "max_width": null,
      "min_height": null,
      "min_width": null,
      "object_fit": null,
      "object_position": null,
      "order": null,
      "overflow": null,
      "overflow_x": null,
      "overflow_y": null,
      "padding": null,
      "right": null,
      "top": null,
      "visibility": null,
      "width": null
     }
    },
    "266e8448cd8e4781a2e12f3bc50425b2": {
     "model_module": "@jupyter-widgets/controls",
     "model_module_version": "1.5.0",
     "model_name": "DescriptionStyleModel",
     "state": {
      "_model_module": "@jupyter-widgets/controls",
      "_model_module_version": "1.5.0",
      "_model_name": "DescriptionStyleModel",
      "_view_count": null,
      "_view_module": "@jupyter-widgets/base",
      "_view_module_version": "1.2.0",
      "_view_name": "StyleView",
      "description_width": ""
     }
    },
    "26a9a9e8401d4da487dc05f6129a2f44": {
     "model_module": "@jupyter-widgets/controls",
     "model_module_version": "1.5.0",
     "model_name": "HTMLModel",
     "state": {
      "_dom_classes": [],
      "_model_module": "@jupyter-widgets/controls",
      "_model_module_version": "1.5.0",
      "_model_name": "HTMLModel",
      "_view_count": null,
      "_view_module": "@jupyter-widgets/controls",
      "_view_module_version": "1.5.0",
      "_view_name": "HTMLView",
      "description": "",
      "description_tooltip": null,
      "layout": "IPY_MODEL_2987741a18e34aab81dae6fe3823db55",
      "placeholder": "​",
      "style": "IPY_MODEL_43f81dcbd71c450bb6cbfffd6857f81b",
      "value": "Render HTML: 100%"
     }
    },
    "2987741a18e34aab81dae6fe3823db55": {
     "model_module": "@jupyter-widgets/base",
     "model_module_version": "1.2.0",
     "model_name": "LayoutModel",
     "state": {
      "_model_module": "@jupyter-widgets/base",
      "_model_module_version": "1.2.0",
      "_model_name": "LayoutModel",
      "_view_count": null,
      "_view_module": "@jupyter-widgets/base",
      "_view_module_version": "1.2.0",
      "_view_name": "LayoutView",
      "align_content": null,
      "align_items": null,
      "align_self": null,
      "border": null,
      "bottom": null,
      "display": null,
      "flex": null,
      "flex_flow": null,
      "grid_area": null,
      "grid_auto_columns": null,
      "grid_auto_flow": null,
      "grid_auto_rows": null,
      "grid_column": null,
      "grid_gap": null,
      "grid_row": null,
      "grid_template_areas": null,
      "grid_template_columns": null,
      "grid_template_rows": null,
      "height": null,
      "justify_content": null,
      "justify_items": null,
      "left": null,
      "margin": null,
      "max_height": null,
      "max_width": null,
      "min_height": null,
      "min_width": null,
      "object_fit": null,
      "object_position": null,
      "order": null,
      "overflow": null,
      "overflow_x": null,
      "overflow_y": null,
      "padding": null,
      "right": null,
      "top": null,
      "visibility": null,
      "width": null
     }
    },
    "2b40fefa5f3444dc807c104b7fb85b45": {
     "model_module": "@jupyter-widgets/base",
     "model_module_version": "1.2.0",
     "model_name": "LayoutModel",
     "state": {
      "_model_module": "@jupyter-widgets/base",
      "_model_module_version": "1.2.0",
      "_model_name": "LayoutModel",
      "_view_count": null,
      "_view_module": "@jupyter-widgets/base",
      "_view_module_version": "1.2.0",
      "_view_name": "LayoutView",
      "align_content": null,
      "align_items": null,
      "align_self": null,
      "border": null,
      "bottom": null,
      "display": null,
      "flex": null,
      "flex_flow": null,
      "grid_area": null,
      "grid_auto_columns": null,
      "grid_auto_flow": null,
      "grid_auto_rows": null,
      "grid_column": null,
      "grid_gap": null,
      "grid_row": null,
      "grid_template_areas": null,
      "grid_template_columns": null,
      "grid_template_rows": null,
      "height": null,
      "justify_content": null,
      "justify_items": null,
      "left": null,
      "margin": null,
      "max_height": null,
      "max_width": null,
      "min_height": null,
      "min_width": null,
      "object_fit": null,
      "object_position": null,
      "order": null,
      "overflow": null,
      "overflow_x": null,
      "overflow_y": null,
      "padding": null,
      "right": null,
      "top": null,
      "visibility": null,
      "width": null
     }
    },
    "36369629dafe4bb79aa55636030dccec": {
     "model_module": "@jupyter-widgets/base",
     "model_module_version": "1.2.0",
     "model_name": "LayoutModel",
     "state": {
      "_model_module": "@jupyter-widgets/base",
      "_model_module_version": "1.2.0",
      "_model_name": "LayoutModel",
      "_view_count": null,
      "_view_module": "@jupyter-widgets/base",
      "_view_module_version": "1.2.0",
      "_view_name": "LayoutView",
      "align_content": null,
      "align_items": null,
      "align_self": null,
      "border": null,
      "bottom": null,
      "display": null,
      "flex": null,
      "flex_flow": null,
      "grid_area": null,
      "grid_auto_columns": null,
      "grid_auto_flow": null,
      "grid_auto_rows": null,
      "grid_column": null,
      "grid_gap": null,
      "grid_row": null,
      "grid_template_areas": null,
      "grid_template_columns": null,
      "grid_template_rows": null,
      "height": null,
      "justify_content": null,
      "justify_items": null,
      "left": null,
      "margin": null,
      "max_height": null,
      "max_width": null,
      "min_height": null,
      "min_width": null,
      "object_fit": null,
      "object_position": null,
      "order": null,
      "overflow": null,
      "overflow_x": null,
      "overflow_y": null,
      "padding": null,
      "right": null,
      "top": null,
      "visibility": null,
      "width": null
     }
    },
    "404cb042cd8040df9ad51e546029b8ef": {
     "model_module": "@jupyter-widgets/controls",
     "model_module_version": "1.5.0",
     "model_name": "ProgressStyleModel",
     "state": {
      "_model_module": "@jupyter-widgets/controls",
      "_model_module_version": "1.5.0",
      "_model_name": "ProgressStyleModel",
      "_view_count": null,
      "_view_module": "@jupyter-widgets/base",
      "_view_module_version": "1.2.0",
      "_view_name": "StyleView",
      "bar_color": null,
      "description_width": ""
     }
    },
    "407c50b935ea4f8a9be5ac7a178af351": {
     "model_module": "@jupyter-widgets/controls",
     "model_module_version": "1.5.0",
     "model_name": "HTMLModel",
     "state": {
      "_dom_classes": [],
      "_model_module": "@jupyter-widgets/controls",
      "_model_module_version": "1.5.0",
      "_model_name": "HTMLModel",
      "_view_count": null,
      "_view_module": "@jupyter-widgets/controls",
      "_view_module_version": "1.5.0",
      "_view_name": "HTMLView",
      "description": "",
      "description_tooltip": null,
      "layout": "IPY_MODEL_9a4571509da14db48aef53e3a416a419",
      "placeholder": "​",
      "style": "IPY_MODEL_21beb053d4604d3bb2de4959788f7741",
      "value": " 1/1 [00:00&lt;00:00, 33.56it/s]"
     }
    },
    "40eba81f6ac04883b4fc36d90dd29874": {
     "model_module": "@jupyter-widgets/controls",
     "model_module_version": "1.5.0",
     "model_name": "DescriptionStyleModel",
     "state": {
      "_model_module": "@jupyter-widgets/controls",
      "_model_module_version": "1.5.0",
      "_model_name": "DescriptionStyleModel",
      "_view_count": null,
      "_view_module": "@jupyter-widgets/base",
      "_view_module_version": "1.2.0",
      "_view_name": "StyleView",
      "description_width": ""
     }
    },
    "4143c05c1d4e4c0baa9d797699e53b05": {
     "model_module": "@jupyter-widgets/controls",
     "model_module_version": "1.5.0",
     "model_name": "FloatProgressModel",
     "state": {
      "_dom_classes": [],
      "_model_module": "@jupyter-widgets/controls",
      "_model_module_version": "1.5.0",
      "_model_name": "FloatProgressModel",
      "_view_count": null,
      "_view_module": "@jupyter-widgets/controls",
      "_view_module_version": "1.5.0",
      "_view_name": "ProgressView",
      "bar_style": "success",
      "description": "",
      "description_tooltip": null,
      "layout": "IPY_MODEL_034b841d20854a0ebee75ec30ba0a1d1",
      "max": 5,
      "min": 0,
      "orientation": "horizontal",
      "style": "IPY_MODEL_74cf23472bfe4dbe8c7ed56d1165cf62",
      "value": 5
     }
    },
    "4297c50248a744efa3ed1c5592a75e86": {
     "model_module": "@jupyter-widgets/base",
     "model_module_version": "1.2.0",
     "model_name": "LayoutModel",
     "state": {
      "_model_module": "@jupyter-widgets/base",
      "_model_module_version": "1.2.0",
      "_model_name": "LayoutModel",
      "_view_count": null,
      "_view_module": "@jupyter-widgets/base",
      "_view_module_version": "1.2.0",
      "_view_name": "LayoutView",
      "align_content": null,
      "align_items": null,
      "align_self": null,
      "border": null,
      "bottom": null,
      "display": null,
      "flex": null,
      "flex_flow": null,
      "grid_area": null,
      "grid_auto_columns": null,
      "grid_auto_flow": null,
      "grid_auto_rows": null,
      "grid_column": null,
      "grid_gap": null,
      "grid_row": null,
      "grid_template_areas": null,
      "grid_template_columns": null,
      "grid_template_rows": null,
      "height": null,
      "justify_content": null,
      "justify_items": null,
      "left": null,
      "margin": null,
      "max_height": null,
      "max_width": null,
      "min_height": null,
      "min_width": null,
      "object_fit": null,
      "object_position": null,
      "order": null,
      "overflow": null,
      "overflow_x": null,
      "overflow_y": null,
      "padding": null,
      "right": null,
      "top": null,
      "visibility": null,
      "width": null
     }
    },
    "43f81dcbd71c450bb6cbfffd6857f81b": {
     "model_module": "@jupyter-widgets/controls",
     "model_module_version": "1.5.0",
     "model_name": "DescriptionStyleModel",
     "state": {
      "_model_module": "@jupyter-widgets/controls",
      "_model_module_version": "1.5.0",
      "_model_name": "DescriptionStyleModel",
      "_view_count": null,
      "_view_module": "@jupyter-widgets/base",
      "_view_module_version": "1.2.0",
      "_view_name": "StyleView",
      "description_width": ""
     }
    },
    "5001855345504e88b3582f6c8903052a": {
     "model_module": "@jupyter-widgets/base",
     "model_module_version": "1.2.0",
     "model_name": "LayoutModel",
     "state": {
      "_model_module": "@jupyter-widgets/base",
      "_model_module_version": "1.2.0",
      "_model_name": "LayoutModel",
      "_view_count": null,
      "_view_module": "@jupyter-widgets/base",
      "_view_module_version": "1.2.0",
      "_view_name": "LayoutView",
      "align_content": null,
      "align_items": null,
      "align_self": null,
      "border": null,
      "bottom": null,
      "display": null,
      "flex": null,
      "flex_flow": null,
      "grid_area": null,
      "grid_auto_columns": null,
      "grid_auto_flow": null,
      "grid_auto_rows": null,
      "grid_column": null,
      "grid_gap": null,
      "grid_row": null,
      "grid_template_areas": null,
      "grid_template_columns": null,
      "grid_template_rows": null,
      "height": null,
      "justify_content": null,
      "justify_items": null,
      "left": null,
      "margin": null,
      "max_height": null,
      "max_width": null,
      "min_height": null,
      "min_width": null,
      "object_fit": null,
      "object_position": null,
      "order": null,
      "overflow": null,
      "overflow_x": null,
      "overflow_y": null,
      "padding": null,
      "right": null,
      "top": null,
      "visibility": null,
      "width": null
     }
    },
    "5e63eb4f2a344b7b88dd7b40e59a083a": {
     "model_module": "@jupyter-widgets/controls",
     "model_module_version": "1.5.0",
     "model_name": "HBoxModel",
     "state": {
      "_dom_classes": [],
      "_model_module": "@jupyter-widgets/controls",
      "_model_module_version": "1.5.0",
      "_model_name": "HBoxModel",
      "_view_count": null,
      "_view_module": "@jupyter-widgets/controls",
      "_view_module_version": "1.5.0",
      "_view_name": "HBoxView",
      "box_style": "",
      "children": [
       "IPY_MODEL_17858ee892e94932a43aa9a871fa7a4b",
       "IPY_MODEL_bea7cefdb780404bad759e2e2b0840fd",
       "IPY_MODEL_407c50b935ea4f8a9be5ac7a178af351"
      ],
      "layout": "IPY_MODEL_ec9f66b70db34ec1908b96e70bf6fc23"
     }
    },
    "63323908fcea4b10b0c4f576876111b1": {
     "model_module": "@jupyter-widgets/base",
     "model_module_version": "1.2.0",
     "model_name": "LayoutModel",
     "state": {
      "_model_module": "@jupyter-widgets/base",
      "_model_module_version": "1.2.0",
      "_model_name": "LayoutModel",
      "_view_count": null,
      "_view_module": "@jupyter-widgets/base",
      "_view_module_version": "1.2.0",
      "_view_name": "LayoutView",
      "align_content": null,
      "align_items": null,
      "align_self": null,
      "border": null,
      "bottom": null,
      "display": null,
      "flex": null,
      "flex_flow": null,
      "grid_area": null,
      "grid_auto_columns": null,
      "grid_auto_flow": null,
      "grid_auto_rows": null,
      "grid_column": null,
      "grid_gap": null,
      "grid_row": null,
      "grid_template_areas": null,
      "grid_template_columns": null,
      "grid_template_rows": null,
      "height": null,
      "justify_content": null,
      "justify_items": null,
      "left": null,
      "margin": null,
      "max_height": null,
      "max_width": null,
      "min_height": null,
      "min_width": null,
      "object_fit": null,
      "object_position": null,
      "order": null,
      "overflow": null,
      "overflow_x": null,
      "overflow_y": null,
      "padding": null,
      "right": null,
      "top": null,
      "visibility": null,
      "width": null
     }
    },
    "6d8c3988f0df458dbb61ed3978a24ab2": {
     "model_module": "@jupyter-widgets/controls",
     "model_module_version": "1.5.0",
     "model_name": "DescriptionStyleModel",
     "state": {
      "_model_module": "@jupyter-widgets/controls",
      "_model_module_version": "1.5.0",
      "_model_name": "DescriptionStyleModel",
      "_view_count": null,
      "_view_module": "@jupyter-widgets/base",
      "_view_module_version": "1.2.0",
      "_view_name": "StyleView",
      "description_width": ""
     }
    },
    "6e35bc67ea8d4dc38bd6e9c50667a946": {
     "model_module": "@jupyter-widgets/controls",
     "model_module_version": "1.5.0",
     "model_name": "FloatProgressModel",
     "state": {
      "_dom_classes": [],
      "_model_module": "@jupyter-widgets/controls",
      "_model_module_version": "1.5.0",
      "_model_name": "FloatProgressModel",
      "_view_count": null,
      "_view_module": "@jupyter-widgets/controls",
      "_view_module_version": "1.5.0",
      "_view_name": "ProgressView",
      "bar_style": "success",
      "description": "",
      "description_tooltip": null,
      "layout": "IPY_MODEL_2b40fefa5f3444dc807c104b7fb85b45",
      "max": 1,
      "min": 0,
      "orientation": "horizontal",
      "style": "IPY_MODEL_d6cd1e1a030b46c2829f72166970c0b5",
      "value": 1
     }
    },
    "74cf23472bfe4dbe8c7ed56d1165cf62": {
     "model_module": "@jupyter-widgets/controls",
     "model_module_version": "1.5.0",
     "model_name": "ProgressStyleModel",
     "state": {
      "_model_module": "@jupyter-widgets/controls",
      "_model_module_version": "1.5.0",
      "_model_name": "ProgressStyleModel",
      "_view_count": null,
      "_view_module": "@jupyter-widgets/base",
      "_view_module_version": "1.2.0",
      "_view_name": "StyleView",
      "bar_color": null,
      "description_width": ""
     }
    },
    "789703918b1f460cb3dc5d20ec3a0717": {
     "model_module": "@jupyter-widgets/controls",
     "model_module_version": "1.5.0",
     "model_name": "HBoxModel",
     "state": {
      "_dom_classes": [],
      "_model_module": "@jupyter-widgets/controls",
      "_model_module_version": "1.5.0",
      "_model_name": "HBoxModel",
      "_view_count": null,
      "_view_module": "@jupyter-widgets/controls",
      "_view_module_version": "1.5.0",
      "_view_name": "HBoxView",
      "box_style": "",
      "children": [
       "IPY_MODEL_26a9a9e8401d4da487dc05f6129a2f44",
       "IPY_MODEL_12e5e017e730445e90a77e0eb0dde0f3",
       "IPY_MODEL_b90890277365437ea8246933a16408b8"
      ],
      "layout": "IPY_MODEL_926dd0b911584ccbaf25b3e67629db13"
     }
    },
    "81e541a49a824f81ae72f7d8a4de5475": {
     "model_module": "@jupyter-widgets/base",
     "model_module_version": "1.2.0",
     "model_name": "LayoutModel",
     "state": {
      "_model_module": "@jupyter-widgets/base",
      "_model_module_version": "1.2.0",
      "_model_name": "LayoutModel",
      "_view_count": null,
      "_view_module": "@jupyter-widgets/base",
      "_view_module_version": "1.2.0",
      "_view_name": "LayoutView",
      "align_content": null,
      "align_items": null,
      "align_self": null,
      "border": null,
      "bottom": null,
      "display": null,
      "flex": null,
      "flex_flow": null,
      "grid_area": null,
      "grid_auto_columns": null,
      "grid_auto_flow": null,
      "grid_auto_rows": null,
      "grid_column": null,
      "grid_gap": null,
      "grid_row": null,
      "grid_template_areas": null,
      "grid_template_columns": null,
      "grid_template_rows": null,
      "height": null,
      "justify_content": null,
      "justify_items": null,
      "left": null,
      "margin": null,
      "max_height": null,
      "max_width": null,
      "min_height": null,
      "min_width": null,
      "object_fit": null,
      "object_position": null,
      "order": null,
      "overflow": null,
      "overflow_x": null,
      "overflow_y": null,
      "padding": null,
      "right": null,
      "top": null,
      "visibility": null,
      "width": null
     }
    },
    "8ebf9f1a314b4c8090a0d60d54acb41a": {
     "model_module": "@jupyter-widgets/controls",
     "model_module_version": "1.5.0",
     "model_name": "DescriptionStyleModel",
     "state": {
      "_model_module": "@jupyter-widgets/controls",
      "_model_module_version": "1.5.0",
      "_model_name": "DescriptionStyleModel",
      "_view_count": null,
      "_view_module": "@jupyter-widgets/base",
      "_view_module_version": "1.2.0",
      "_view_name": "StyleView",
      "description_width": ""
     }
    },
    "926dd0b911584ccbaf25b3e67629db13": {
     "model_module": "@jupyter-widgets/base",
     "model_module_version": "1.2.0",
     "model_name": "LayoutModel",
     "state": {
      "_model_module": "@jupyter-widgets/base",
      "_model_module_version": "1.2.0",
      "_model_name": "LayoutModel",
      "_view_count": null,
      "_view_module": "@jupyter-widgets/base",
      "_view_module_version": "1.2.0",
      "_view_name": "LayoutView",
      "align_content": null,
      "align_items": null,
      "align_self": null,
      "border": null,
      "bottom": null,
      "display": null,
      "flex": null,
      "flex_flow": null,
      "grid_area": null,
      "grid_auto_columns": null,
      "grid_auto_flow": null,
      "grid_auto_rows": null,
      "grid_column": null,
      "grid_gap": null,
      "grid_row": null,
      "grid_template_areas": null,
      "grid_template_columns": null,
      "grid_template_rows": null,
      "height": null,
      "justify_content": null,
      "justify_items": null,
      "left": null,
      "margin": null,
      "max_height": null,
      "max_width": null,
      "min_height": null,
      "min_width": null,
      "object_fit": null,
      "object_position": null,
      "order": null,
      "overflow": null,
      "overflow_x": null,
      "overflow_y": null,
      "padding": null,
      "right": null,
      "top": null,
      "visibility": null,
      "width": null
     }
    },
    "9a4571509da14db48aef53e3a416a419": {
     "model_module": "@jupyter-widgets/base",
     "model_module_version": "1.2.0",
     "model_name": "LayoutModel",
     "state": {
      "_model_module": "@jupyter-widgets/base",
      "_model_module_version": "1.2.0",
      "_model_name": "LayoutModel",
      "_view_count": null,
      "_view_module": "@jupyter-widgets/base",
      "_view_module_version": "1.2.0",
      "_view_name": "LayoutView",
      "align_content": null,
      "align_items": null,
      "align_self": null,
      "border": null,
      "bottom": null,
      "display": null,
      "flex": null,
      "flex_flow": null,
      "grid_area": null,
      "grid_auto_columns": null,
      "grid_auto_flow": null,
      "grid_auto_rows": null,
      "grid_column": null,
      "grid_gap": null,
      "grid_row": null,
      "grid_template_areas": null,
      "grid_template_columns": null,
      "grid_template_rows": null,
      "height": null,
      "justify_content": null,
      "justify_items": null,
      "left": null,
      "margin": null,
      "max_height": null,
      "max_width": null,
      "min_height": null,
      "min_width": null,
      "object_fit": null,
      "object_position": null,
      "order": null,
      "overflow": null,
      "overflow_x": null,
      "overflow_y": null,
      "padding": null,
      "right": null,
      "top": null,
      "visibility": null,
      "width": null
     }
    },
    "9cb1337d171745ff8e279d2d2d3409b2": {
     "model_module": "@jupyter-widgets/base",
     "model_module_version": "1.2.0",
     "model_name": "LayoutModel",
     "state": {
      "_model_module": "@jupyter-widgets/base",
      "_model_module_version": "1.2.0",
      "_model_name": "LayoutModel",
      "_view_count": null,
      "_view_module": "@jupyter-widgets/base",
      "_view_module_version": "1.2.0",
      "_view_name": "LayoutView",
      "align_content": null,
      "align_items": null,
      "align_self": null,
      "border": null,
      "bottom": null,
      "display": null,
      "flex": null,
      "flex_flow": null,
      "grid_area": null,
      "grid_auto_columns": null,
      "grid_auto_flow": null,
      "grid_auto_rows": null,
      "grid_column": null,
      "grid_gap": null,
      "grid_row": null,
      "grid_template_areas": null,
      "grid_template_columns": null,
      "grid_template_rows": null,
      "height": null,
      "justify_content": null,
      "justify_items": null,
      "left": null,
      "margin": null,
      "max_height": null,
      "max_width": null,
      "min_height": null,
      "min_width": null,
      "object_fit": null,
      "object_position": null,
      "order": null,
      "overflow": null,
      "overflow_x": null,
      "overflow_y": null,
      "padding": null,
      "right": null,
      "top": null,
      "visibility": null,
      "width": null
     }
    },
    "a50928756243496894b568b323b4deda": {
     "model_module": "@jupyter-widgets/base",
     "model_module_version": "1.2.0",
     "model_name": "LayoutModel",
     "state": {
      "_model_module": "@jupyter-widgets/base",
      "_model_module_version": "1.2.0",
      "_model_name": "LayoutModel",
      "_view_count": null,
      "_view_module": "@jupyter-widgets/base",
      "_view_module_version": "1.2.0",
      "_view_name": "LayoutView",
      "align_content": null,
      "align_items": null,
      "align_self": null,
      "border": null,
      "bottom": null,
      "display": null,
      "flex": null,
      "flex_flow": null,
      "grid_area": null,
      "grid_auto_columns": null,
      "grid_auto_flow": null,
      "grid_auto_rows": null,
      "grid_column": null,
      "grid_gap": null,
      "grid_row": null,
      "grid_template_areas": null,
      "grid_template_columns": null,
      "grid_template_rows": null,
      "height": null,
      "justify_content": null,
      "justify_items": null,
      "left": null,
      "margin": null,
      "max_height": null,
      "max_width": null,
      "min_height": null,
      "min_width": null,
      "object_fit": null,
      "object_position": null,
      "order": null,
      "overflow": null,
      "overflow_x": null,
      "overflow_y": null,
      "padding": null,
      "right": null,
      "top": null,
      "visibility": null,
      "width": null
     }
    },
    "b90890277365437ea8246933a16408b8": {
     "model_module": "@jupyter-widgets/controls",
     "model_module_version": "1.5.0",
     "model_name": "HTMLModel",
     "state": {
      "_dom_classes": [],
      "_model_module": "@jupyter-widgets/controls",
      "_model_module_version": "1.5.0",
      "_model_name": "HTMLModel",
      "_view_count": null,
      "_view_module": "@jupyter-widgets/controls",
      "_view_module_version": "1.5.0",
      "_view_name": "HTMLView",
      "description": "",
      "description_tooltip": null,
      "layout": "IPY_MODEL_63323908fcea4b10b0c4f576876111b1",
      "placeholder": "​",
      "style": "IPY_MODEL_266e8448cd8e4781a2e12f3bc50425b2",
      "value": " 1/1 [00:01&lt;00:00,  1.39s/it]"
     }
    },
    "ba414dfe98f94f919edd8fd9ab0ed06b": {
     "model_module": "@jupyter-widgets/controls",
     "model_module_version": "1.5.0",
     "model_name": "HBoxModel",
     "state": {
      "_dom_classes": [],
      "_model_module": "@jupyter-widgets/controls",
      "_model_module_version": "1.5.0",
      "_model_name": "HBoxModel",
      "_view_count": null,
      "_view_module": "@jupyter-widgets/controls",
      "_view_module_version": "1.5.0",
      "_view_name": "HBoxView",
      "box_style": "",
      "children": [
       "IPY_MODEL_c91ea249f0824c4ab494664849225172",
       "IPY_MODEL_6e35bc67ea8d4dc38bd6e9c50667a946",
       "IPY_MODEL_1149384e996149a2bc774b2c6ab3ca09"
      ],
      "layout": "IPY_MODEL_c5b3daa909f34506816abfa5b4abc862"
     }
    },
    "bea7cefdb780404bad759e2e2b0840fd": {
     "model_module": "@jupyter-widgets/controls",
     "model_module_version": "1.5.0",
     "model_name": "FloatProgressModel",
     "state": {
      "_dom_classes": [],
      "_model_module": "@jupyter-widgets/controls",
      "_model_module_version": "1.5.0",
      "_model_name": "FloatProgressModel",
      "_view_count": null,
      "_view_module": "@jupyter-widgets/controls",
      "_view_module_version": "1.5.0",
      "_view_name": "ProgressView",
      "bar_style": "success",
      "description": "",
      "description_tooltip": null,
      "layout": "IPY_MODEL_9cb1337d171745ff8e279d2d2d3409b2",
      "max": 1,
      "min": 0,
      "orientation": "horizontal",
      "style": "IPY_MODEL_404cb042cd8040df9ad51e546029b8ef",
      "value": 1
     }
    },
    "c4573d3f1d4a48fc9928eaf420774c6f": {
     "model_module": "@jupyter-widgets/controls",
     "model_module_version": "1.5.0",
     "model_name": "DescriptionStyleModel",
     "state": {
      "_model_module": "@jupyter-widgets/controls",
      "_model_module_version": "1.5.0",
      "_model_name": "DescriptionStyleModel",
      "_view_count": null,
      "_view_module": "@jupyter-widgets/base",
      "_view_module_version": "1.2.0",
      "_view_name": "StyleView",
      "description_width": ""
     }
    },
    "c5b3daa909f34506816abfa5b4abc862": {
     "model_module": "@jupyter-widgets/base",
     "model_module_version": "1.2.0",
     "model_name": "LayoutModel",
     "state": {
      "_model_module": "@jupyter-widgets/base",
      "_model_module_version": "1.2.0",
      "_model_name": "LayoutModel",
      "_view_count": null,
      "_view_module": "@jupyter-widgets/base",
      "_view_module_version": "1.2.0",
      "_view_name": "LayoutView",
      "align_content": null,
      "align_items": null,
      "align_self": null,
      "border": null,
      "bottom": null,
      "display": null,
      "flex": null,
      "flex_flow": null,
      "grid_area": null,
      "grid_auto_columns": null,
      "grid_auto_flow": null,
      "grid_auto_rows": null,
      "grid_column": null,
      "grid_gap": null,
      "grid_row": null,
      "grid_template_areas": null,
      "grid_template_columns": null,
      "grid_template_rows": null,
      "height": null,
      "justify_content": null,
      "justify_items": null,
      "left": null,
      "margin": null,
      "max_height": null,
      "max_width": null,
      "min_height": null,
      "min_width": null,
      "object_fit": null,
      "object_position": null,
      "order": null,
      "overflow": null,
      "overflow_x": null,
      "overflow_y": null,
      "padding": null,
      "right": null,
      "top": null,
      "visibility": null,
      "width": null
     }
    },
    "c91ea249f0824c4ab494664849225172": {
     "model_module": "@jupyter-widgets/controls",
     "model_module_version": "1.5.0",
     "model_name": "HTMLModel",
     "state": {
      "_dom_classes": [],
      "_model_module": "@jupyter-widgets/controls",
      "_model_module_version": "1.5.0",
      "_model_name": "HTMLModel",
      "_view_count": null,
      "_view_module": "@jupyter-widgets/controls",
      "_view_module_version": "1.5.0",
      "_view_name": "HTMLView",
      "description": "",
      "description_tooltip": null,
      "layout": "IPY_MODEL_81e541a49a824f81ae72f7d8a4de5475",
      "placeholder": "​",
      "style": "IPY_MODEL_c4573d3f1d4a48fc9928eaf420774c6f",
      "value": "Generate report structure: 100%"
     }
    },
    "d6cd1e1a030b46c2829f72166970c0b5": {
     "model_module": "@jupyter-widgets/controls",
     "model_module_version": "1.5.0",
     "model_name": "ProgressStyleModel",
     "state": {
      "_model_module": "@jupyter-widgets/controls",
      "_model_module_version": "1.5.0",
      "_model_name": "ProgressStyleModel",
      "_view_count": null,
      "_view_module": "@jupyter-widgets/base",
      "_view_module_version": "1.2.0",
      "_view_name": "StyleView",
      "bar_color": null,
      "description_width": ""
     }
    },
    "e30632ab3bb04b5191b98f510e0b1e26": {
     "model_module": "@jupyter-widgets/controls",
     "model_module_version": "1.5.0",
     "model_name": "HBoxModel",
     "state": {
      "_dom_classes": [],
      "_model_module": "@jupyter-widgets/controls",
      "_model_module_version": "1.5.0",
      "_model_name": "HBoxModel",
      "_view_count": null,
      "_view_module": "@jupyter-widgets/controls",
      "_view_module_version": "1.5.0",
      "_view_name": "HBoxView",
      "box_style": "",
      "children": [
       "IPY_MODEL_e84319ea1d84464ba6a6d2f31628c8c7",
       "IPY_MODEL_4143c05c1d4e4c0baa9d797699e53b05",
       "IPY_MODEL_f8db1f580c7949ab80faca3d85080b57"
      ],
      "layout": "IPY_MODEL_1ea652088f3a431d9400dc33e51443fc"
     }
    },
    "e40a6179bf594f11b03a3d4266db2bf7": {
     "model_module": "@jupyter-widgets/controls",
     "model_module_version": "1.5.0",
     "model_name": "ProgressStyleModel",
     "state": {
      "_model_module": "@jupyter-widgets/controls",
      "_model_module_version": "1.5.0",
      "_model_name": "ProgressStyleModel",
      "_view_count": null,
      "_view_module": "@jupyter-widgets/base",
      "_view_module_version": "1.2.0",
      "_view_name": "StyleView",
      "bar_color": null,
      "description_width": ""
     }
    },
    "e84319ea1d84464ba6a6d2f31628c8c7": {
     "model_module": "@jupyter-widgets/controls",
     "model_module_version": "1.5.0",
     "model_name": "HTMLModel",
     "state": {
      "_dom_classes": [],
      "_model_module": "@jupyter-widgets/controls",
      "_model_module_version": "1.5.0",
      "_model_name": "HTMLModel",
      "_view_count": null,
      "_view_module": "@jupyter-widgets/controls",
      "_view_module_version": "1.5.0",
      "_view_name": "HTMLView",
      "description": "",
      "description_tooltip": null,
      "layout": "IPY_MODEL_246c8208e4084a369b9a825748d5334e",
      "placeholder": "​",
      "style": "IPY_MODEL_40eba81f6ac04883b4fc36d90dd29874",
      "value": "Summarize dataset: 100%"
     }
    },
    "ec9f66b70db34ec1908b96e70bf6fc23": {
     "model_module": "@jupyter-widgets/base",
     "model_module_version": "1.2.0",
     "model_name": "LayoutModel",
     "state": {
      "_model_module": "@jupyter-widgets/base",
      "_model_module_version": "1.2.0",
      "_model_name": "LayoutModel",
      "_view_count": null,
      "_view_module": "@jupyter-widgets/base",
      "_view_module_version": "1.2.0",
      "_view_name": "LayoutView",
      "align_content": null,
      "align_items": null,
      "align_self": null,
      "border": null,
      "bottom": null,
      "display": null,
      "flex": null,
      "flex_flow": null,
      "grid_area": null,
      "grid_auto_columns": null,
      "grid_auto_flow": null,
      "grid_auto_rows": null,
      "grid_column": null,
      "grid_gap": null,
      "grid_row": null,
      "grid_template_areas": null,
      "grid_template_columns": null,
      "grid_template_rows": null,
      "height": null,
      "justify_content": null,
      "justify_items": null,
      "left": null,
      "margin": null,
      "max_height": null,
      "max_width": null,
      "min_height": null,
      "min_width": null,
      "object_fit": null,
      "object_position": null,
      "order": null,
      "overflow": null,
      "overflow_x": null,
      "overflow_y": null,
      "padding": null,
      "right": null,
      "top": null,
      "visibility": null,
      "width": null
     }
    },
    "ee3e4ce9308c4c59bf65d3bba3e3574a": {
     "model_module": "@jupyter-widgets/controls",
     "model_module_version": "1.5.0",
     "model_name": "DescriptionStyleModel",
     "state": {
      "_model_module": "@jupyter-widgets/controls",
      "_model_module_version": "1.5.0",
      "_model_name": "DescriptionStyleModel",
      "_view_count": null,
      "_view_module": "@jupyter-widgets/base",
      "_view_module_version": "1.2.0",
      "_view_name": "StyleView",
      "description_width": ""
     }
    },
    "f8db1f580c7949ab80faca3d85080b57": {
     "model_module": "@jupyter-widgets/controls",
     "model_module_version": "1.5.0",
     "model_name": "HTMLModel",
     "state": {
      "_dom_classes": [],
      "_model_module": "@jupyter-widgets/controls",
      "_model_module_version": "1.5.0",
      "_model_name": "HTMLModel",
      "_view_count": null,
      "_view_module": "@jupyter-widgets/controls",
      "_view_module_version": "1.5.0",
      "_view_name": "HTMLView",
      "description": "",
      "description_tooltip": null,
      "layout": "IPY_MODEL_36369629dafe4bb79aa55636030dccec",
      "placeholder": "​",
      "style": "IPY_MODEL_8ebf9f1a314b4c8090a0d60d54acb41a",
      "value": " 34/34 [00:09&lt;00:00,  4.83it/s, Completed]"
     }
    }
   }
  }
 },
 "nbformat": 4,
 "nbformat_minor": 1
}
